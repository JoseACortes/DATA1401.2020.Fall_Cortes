{
 "cells": [
  {
   "cell_type": "markdown",
   "metadata": {},
   "source": [
    "# Lab 6\n"
   ]
  },
  {
   "cell_type": "code",
   "execution_count": 255,
   "metadata": {},
   "outputs": [],
   "source": [
    "class matrix:\n",
    "    def __init__(self, key, key0 = 0):\n",
    "        if isinstance(key, list):\n",
    "            for g in key:\n",
    "                if len(g) != len(key[0]):\n",
    "                    print('error: not a matrix')\n",
    "            self.__matrix = key\n",
    "        elif isinstance(key, int): \n",
    "            n = key\n",
    "            m = key0\n",
    "            temp = list()\n",
    "            for t in range(n):\n",
    "                supertemp = list()\n",
    "                for f in range(m):\n",
    "                    supertemp.append(0)\n",
    "                temp.append(supertemp)\n",
    "            self.__matrix = temp\n",
    "    def __getitem__(self, key):\n",
    "        if isinstance(key, tuple):\n",
    "            n = key[0]\n",
    "            m = key[1]\n",
    "            return(self.__matrix[n][m])\n",
    "        elif isinstance(key, int):\n",
    "            return(self.__matrix[key])\n",
    "    def shape(self):\n",
    "        return len(self.__matrix), len(self.__matrix[0])\n",
    "    def __testshape(self, key):\n",
    "        if key.shape() == self.shape():\n",
    "            return True\n",
    "        else:\n",
    "            print('error: matrix shapes not equal')\n",
    "            return False\n",
    "    def __setitem__(self, key):\n",
    "        if __testshape(key):\n",
    "            for n in range(self.shape()[0]):\n",
    "                for m in range(self.shape()[1]):\n",
    "                    self[n][m] = key[n][m]\n",
    "    def transpose(self):\n",
    "        newmat = list()\n",
    "        for m in range(self.shape()[1]):\n",
    "            temp = list()\n",
    "            for n in range(self.shape()[0]):\n",
    "                temp.append(self.__matrix[n][m])\n",
    "            newmat.append(temp)\n",
    "        return matrix(newmat)\n",
    "    def row(self, n):\n",
    "        return matrix([self[n]])\n",
    "    def column(self, m):\n",
    "        supertemp = list()\n",
    "        for n in range(self.shape()[0]):\n",
    "            supertemp.append([self[n][m]])\n",
    "        return matrix(supertemp)\n",
    "    def to_list(self):\n",
    "        return self.__matrix\n",
    "    def block(self,n_0,n_1,m_0,m_1):\n",
    "        n_1 = n_1+1\n",
    "        m_1 = m_1+1\n",
    "        temp = list()\n",
    "        for t in range(n_0,n_1):\n",
    "            supertemp = list()\n",
    "            for f in range(m_0,m_1):\n",
    "                supertemp.append(self.__matrix[t][f])\n",
    "            temp.append(supertemp)\n",
    "        return matrix(temp)\n",
    "    \n",
    "    def elementmult(self, N):\n",
    "        if self.__testshape(N):\n",
    "            supertemp = list()\n",
    "            for n in range(self.shape()[0]):\n",
    "                temp = list()\n",
    "                for m in range(self.shape()[1]):\n",
    "                    temp.append(self[n][m]*N[n][m])\n",
    "                supertemp.append(temp)\n",
    "            return matrix(supertemp)\n",
    "    def __mul__(self, key):\n",
    "        if isinstance(key, int):\n",
    "            c = key\n",
    "            supertemp = list()\n",
    "            for n in range(self.shape()[0]):\n",
    "                temp = list()\n",
    "                for m in range(self.shape()[1]):\n",
    "                    temp.append(c*self[n][m])\n",
    "                supertemp.append(temp)\n",
    "            return matrix(supertemp)\n",
    "        elif isinstance(key, matrix):\n",
    "            if self.shape() == key.transpose().shape():\n",
    "                supertemp = list()\n",
    "                for n in range(self.shape()[0]):\n",
    "                    temp = list()\n",
    "                    for m in range(key.shape()[1]):\n",
    "                        temp.append(sum(self.row(n).elementmult(key.column(m).transpose())[0]))\n",
    "                    supertemp.append(temp)\n",
    "                return matrix(supertemp)\n",
    "    def __add__(self, N):\n",
    "        if self.__testshape(N):\n",
    "            supertemp = list()\n",
    "            for n in range(self.shape()[0]):\n",
    "                temp = list()\n",
    "                for m in range(self.shape()[1]):\n",
    "                    temp.append(self[n][m]+N[n][m])\n",
    "                supertemp.append(temp)\n",
    "            return matrix(supertemp)\n",
    "    def __sub__(self, N):\n",
    "        if self.__testshape(N):\n",
    "            supertemp = list()\n",
    "            for n in range(self.shape()[0]):\n",
    "                temp = list()\n",
    "                for m in range(self.shape()[1]):\n",
    "                    temp.append(self[n][m]-N[n][m])\n",
    "                supertemp.append(temp)\n",
    "            return matrix(supertemp)\n",
    "    def __eq__(self, N):\n",
    "        if self.__testshape(N):\n",
    "            for n in range(self.shape()[0]):\n",
    "                for m in range(self.shape()[1]):\n",
    "                    if self[n][m] != N[n][m]:\n",
    "                        return False\n",
    "            return True\n",
    "        else:\n",
    "            return False\n",
    "        \n",
    "\n",
    "def constant(n,m,c):\n",
    "    temp = list()\n",
    "    for t in range(n):\n",
    "        supertemp = list()\n",
    "        for f in range(m):\n",
    "            supertemp.append(float(c))\n",
    "        temp.append(supertemp)\n",
    "    return matrix(temp)\n",
    "\n",
    "def zeros(n,m):\n",
    "    return constant(n, m, 0)\n",
    "def ones(n,m):\n",
    "    return constant(n, m, 1)\n",
    "def eye(n):\n",
    "    temp = list()\n",
    "    for t in range(n):\n",
    "        supertemp = list()\n",
    "        for f in range(n):\n",
    "            if f == t:\n",
    "                supertemp.append(1)\n",
    "            else:\n",
    "                supertemp.append(0)\n",
    "        temp.append(supertemp)\n",
    "    return matrix(temp)"
   ]
  },
  {
   "cell_type": "markdown",
   "metadata": {},
   "source": [
    "Matrix Representation: In this lab you will be creating a simple linear algebra system. In memory, we will represent matrices as nested python lists as we have done in lecture. \n",
    "\n",
    "1. Create a `matrix` class with the following properties:\n",
    "    * It can be initialized in 2 ways:\n",
    "        1. with arguments `n` and `m`, the size of the matrix. A newly instanciated matrix will contain all zeros.\n",
    "        2. with a list of lists of values. Note that since we are using lists of lists to implement matrices, it is possible that not all rows have the same number of columns. Test explicitly that the matrix is properly specified.\n",
    "    * Matrix instances `M` can be indexed with `M[i][j]` and `M[i,j]`.\n",
    "    * Matrix assignment works in 2 ways:\n",
    "        1. If `M_1` and `M_2` are `matrix` instances `M_1=M_2` sets the values of `M_1` to those of `M_2`, if they are the same size. Error otherwise.\n",
    "        2. In example above `M_2` can be a list of lists of correct size.\n"
   ]
  },
  {
   "cell_type": "code",
   "execution_count": 48,
   "metadata": {},
   "outputs": [
    {
     "name": "stdout",
     "output_type": "stream",
     "text": [
      "[[0, 0, 0, 0], [0, 0, 0, 0]]\n"
     ]
    }
   ],
   "source": [
    "a = matrix(2, 4)\n",
    "print(a.to_list())"
   ]
  },
  {
   "cell_type": "code",
   "execution_count": 49,
   "metadata": {},
   "outputs": [
    {
     "name": "stdout",
     "output_type": "stream",
     "text": [
      "[[1, 3, 5], [7, 7, 3], [4, 5, 6], [9, 9, 9]]\n"
     ]
    }
   ],
   "source": [
    "b = [[1, 3, 5], [7, 7, 3], [4, 5, 6], [9, 9, 9]]\n",
    "b = matrix(b)\n",
    "print(b.to_list())"
   ]
  },
  {
   "cell_type": "code",
   "execution_count": 50,
   "metadata": {},
   "outputs": [
    {
     "name": "stdout",
     "output_type": "stream",
     "text": [
      "7\n",
      "7\n"
     ]
    }
   ],
   "source": [
    "print(b[1, 1])\n",
    "print(b[1][1])"
   ]
  },
  {
   "cell_type": "code",
   "execution_count": 51,
   "metadata": {},
   "outputs": [
    {
     "name": "stdout",
     "output_type": "stream",
     "text": [
      "[[0, 0, 0, 0], [0, 0, 0, 0]]\n"
     ]
    }
   ],
   "source": [
    "c = matrix([[1, 3, 5], [7, 7, 3], [4, 5, 6], [8, 8, 8]])\n",
    "d = a\n",
    "c = a\n",
    "print(c.to_list())"
   ]
  },
  {
   "cell_type": "markdown",
   "metadata": {},
   "source": [
    "# 2. Add the following methods:\n",
    "    * `shape()`: returns a tuple `(n,m)` of the shape of the matrix.\n",
    "    * `transpose()`: returns a new matrix instance which is the transpose of the matrix.\n",
    "    * `row(n)` and `column(n)`: that return the nth row or column of the matrix M as a new appropriately shaped matrix object.\n",
    "    * `to_list()`: which returns the matrix as a list of lists.\n",
    "    *  `block(n_0,n_1,m_0,m_1)` that returns a smaller matrix located at the n_0 to n_1 columns and m_0 to m_1 rows. \n",
    "    * (Extra credit) Modify `__getitem__` implemented above to support slicing.\n",
    "            "
   ]
  },
  {
   "cell_type": "code",
   "execution_count": 52,
   "metadata": {},
   "outputs": [
    {
     "name": "stdout",
     "output_type": "stream",
     "text": [
      "[[1, 3, 5], [7, 7, 3], [4, 5, 6], [9, 9, 9]]\n"
     ]
    }
   ],
   "source": [
    "b = [[1, 3, 5], [7, 7, 3], [4, 5, 6], [9, 9, 9]]\n",
    "b = matrix(b)\n",
    "print(b.to_list())"
   ]
  },
  {
   "cell_type": "code",
   "execution_count": 53,
   "metadata": {},
   "outputs": [
    {
     "name": "stdout",
     "output_type": "stream",
     "text": [
      "(4, 3)\n"
     ]
    }
   ],
   "source": [
    "print(b.shape())"
   ]
  },
  {
   "cell_type": "code",
   "execution_count": 54,
   "metadata": {},
   "outputs": [
    {
     "name": "stdout",
     "output_type": "stream",
     "text": [
      "[[1, 7, 4, 9], [3, 7, 5, 9], [5, 3, 6, 9]]\n"
     ]
    }
   ],
   "source": [
    "print(b.transpose().to_list())"
   ]
  },
  {
   "cell_type": "code",
   "execution_count": 55,
   "metadata": {},
   "outputs": [
    {
     "data": {
      "text/plain": [
       "[7, 7, 3]"
      ]
     },
     "execution_count": 55,
     "metadata": {},
     "output_type": "execute_result"
    }
   ],
   "source": [
    "b[1]"
   ]
  },
  {
   "cell_type": "code",
   "execution_count": 56,
   "metadata": {},
   "outputs": [
    {
     "name": "stdout",
     "output_type": "stream",
     "text": [
      "[[4, 5, 6]]\n"
     ]
    }
   ],
   "source": [
    "print(b.row(2).to_list())"
   ]
  },
  {
   "cell_type": "code",
   "execution_count": 57,
   "metadata": {},
   "outputs": [
    {
     "name": "stdout",
     "output_type": "stream",
     "text": [
      "[[3], [7], [5], [9]]\n"
     ]
    }
   ],
   "source": [
    "print(b.column(1).to_list())"
   ]
  },
  {
   "cell_type": "code",
   "execution_count": 64,
   "metadata": {},
   "outputs": [
    {
     "name": "stdout",
     "output_type": "stream",
     "text": [
      "[[3, 5], [7, 3], [5, 6]]\n"
     ]
    }
   ],
   "source": [
    "print(b.block(0, 2, 1, 2).to_list())"
   ]
  },
  {
   "cell_type": "markdown",
   "metadata": {},
   "source": [
    "3. Write functions that create special matrices (note these are standalone functions, not member functions of your `matrix` class):\n",
    "    * `constant(n,m,c)`: returns a `n` by `m` matrix filled with floats of value `c`.\n",
    "    * `zeros(n,m)` and `ones(n,m)`: return `n` by `m` matrices filled with floats of value `0` and `1`, respectively.\n",
    "    * `eye(n)`: returns the n by n identity matrix."
   ]
  },
  {
   "cell_type": "code",
   "execution_count": 254,
   "metadata": {},
   "outputs": [
    {
     "name": "stdout",
     "output_type": "stream",
     "text": [
      "[[2.0, 2.0, 2.0], [2.0, 2.0, 2.0], [2.0, 2.0, 2.0], [2.0, 2.0, 2.0]]\n",
      "[[0.0, 0.0], [0.0, 0.0], [0.0, 0.0], [0.0, 0.0]]\n",
      "[[1.0, 1.0], [1.0, 1.0]]\n",
      "[[1, 0, 0], [0, 1, 0], [0, 0, 1]]\n"
     ]
    }
   ],
   "source": [
    "print(constant(4, 3, 2).to_list())\n",
    "print(zeros(4, 2).to_list())\n",
    "print(ones(2, 2).to_list())\n",
    "print(eye(3).to_list())"
   ]
  },
  {
   "cell_type": "markdown",
   "metadata": {},
   "source": [
    "4. Add the following member functions to your class. Make sure to appropriately test the dimensions of the matrices to make sure the operations are correct.\n",
    "    * `M.scalarmul(c)`: a matrix that is scalar product $cM$, where every element of $M$ is multiplied by $c$.\n",
    "    * `M.add(N)`: adds two matrices $M$ and $N$. Don’t forget to test that the sizes of the matrices are compatible for this and all other operations.\n",
    "    * `M.sub(N)`: subtracts two matrices $M$ and $N$.\n",
    "    * `M.mat_mult(N)`: returns a matrix that is the matrix product of two matrices $M$ and $N$.\n",
    "    * `M.element_mult(N)`: returns a matrix that is the element-wise product of two matrices $M$ and $N$.\n",
    "    * `M.equals(N)`: returns true/false if $M==N$."
   ]
  },
  {
   "cell_type": "markdown",
   "metadata": {},
   "source": [
    "5. Overload python operators to appropriately use your functions in 4 and allow expressions like:\n",
    "    * 2*M\n",
    "    * M*2\n",
    "    * M+N\n",
    "    * M-N\n",
    "    * M*N\n",
    "    * M==N\n",
    "    * M=N\n"
   ]
  },
  {
   "cell_type": "code",
   "execution_count": 240,
   "metadata": {},
   "outputs": [],
   "source": [
    "e = matrix([[1, 3, 5], [7, 7, 3], [4, 5, 6], [8, 8, 8]])\n",
    "f = matrix([[5, 4, 3], [4, 4, 4], [2, 9, 8], [1, 1, 3]])\n",
    "g = matrix([[5, 4, 3, 5], [4, 4, 4, 3], [2, 9, 8, 7]])"
   ]
  },
  {
   "cell_type": "code",
   "execution_count": 241,
   "metadata": {},
   "outputs": [
    {
     "name": "stdout",
     "output_type": "stream",
     "text": [
      "[[5, 12, 15], [28, 28, 12], [8, 45, 48], [8, 8, 24]]\n",
      "error: matrix shapes not equal\n"
     ]
    },
    {
     "ename": "AttributeError",
     "evalue": "'NoneType' object has no attribute 'to_list'",
     "output_type": "error",
     "traceback": [
      "\u001b[1;31m---------------------------------------------------------------------------\u001b[0m",
      "\u001b[1;31mAttributeError\u001b[0m                            Traceback (most recent call last)",
      "\u001b[1;32m<ipython-input-241-3bf5bec8cc80>\u001b[0m in \u001b[0;36m<module>\u001b[1;34m\u001b[0m\n\u001b[0;32m      1\u001b[0m \u001b[0mprint\u001b[0m\u001b[1;33m(\u001b[0m\u001b[0me\u001b[0m\u001b[1;33m.\u001b[0m\u001b[0melementmult\u001b[0m\u001b[1;33m(\u001b[0m\u001b[0mf\u001b[0m\u001b[1;33m)\u001b[0m\u001b[1;33m.\u001b[0m\u001b[0mto_list\u001b[0m\u001b[1;33m(\u001b[0m\u001b[1;33m)\u001b[0m\u001b[1;33m)\u001b[0m\u001b[1;33m\u001b[0m\u001b[1;33m\u001b[0m\u001b[0m\n\u001b[1;32m----> 2\u001b[1;33m \u001b[0mprint\u001b[0m\u001b[1;33m(\u001b[0m\u001b[0mf\u001b[0m\u001b[1;33m.\u001b[0m\u001b[0melementmult\u001b[0m\u001b[1;33m(\u001b[0m\u001b[0mg\u001b[0m\u001b[1;33m)\u001b[0m\u001b[1;33m.\u001b[0m\u001b[0mto_list\u001b[0m\u001b[1;33m(\u001b[0m\u001b[1;33m)\u001b[0m\u001b[1;33m)\u001b[0m\u001b[1;33m\u001b[0m\u001b[1;33m\u001b[0m\u001b[0m\n\u001b[0m",
      "\u001b[1;31mAttributeError\u001b[0m: 'NoneType' object has no attribute 'to_list'"
     ]
    }
   ],
   "source": [
    "print(e.elementmult(f).to_list())\n",
    "print(f.elementmult(g).to_list())"
   ]
  },
  {
   "cell_type": "code",
   "execution_count": 242,
   "metadata": {},
   "outputs": [
    {
     "name": "stdout",
     "output_type": "stream",
     "text": [
      "[[3, 9, 15], [21, 21, 9], [12, 15, 18], [24, 24, 24]]\n"
     ]
    }
   ],
   "source": [
    "print((e*3).to_list())"
   ]
  },
  {
   "cell_type": "code",
   "execution_count": 243,
   "metadata": {},
   "outputs": [
    {
     "name": "stdout",
     "output_type": "stream",
     "text": [
      "[[6, 7, 8], [11, 11, 7], [6, 14, 14], [9, 9, 11]]\n"
     ]
    }
   ],
   "source": [
    "print((e+f).to_list())"
   ]
  },
  {
   "cell_type": "code",
   "execution_count": 244,
   "metadata": {},
   "outputs": [
    {
     "name": "stdout",
     "output_type": "stream",
     "text": [
      "[[-4, -1, 2], [3, 3, -1], [2, -4, -2], [7, 7, 5]]\n"
     ]
    }
   ],
   "source": [
    "print((e-f).to_list())"
   ]
  },
  {
   "cell_type": "code",
   "execution_count": 245,
   "metadata": {},
   "outputs": [
    {
     "data": {
      "text/plain": [
       "[[47, 63, 55, 58], [44, 68, 60, 60], [62, 116, 106, 93], [15, 35, 31, 29]]"
      ]
     },
     "execution_count": 245,
     "metadata": {},
     "output_type": "execute_result"
    }
   ],
   "source": [
    "(f*g).to_list()"
   ]
  },
  {
   "cell_type": "markdown",
   "metadata": {},
   "source": [
    "6. Demonstrate the basic properties of matrices with your matrix class by creating two 2 by 2 example matrices using your Matrix class and illustrating the following:\n",
    "\n",
    "$$\n",
    "(AB)C=A(BC)\n",
    "$$\n",
    "$$\n",
    "A(B+C)=AB+AC\n",
    "$$\n",
    "$$\n",
    "AB\\neq BA\n",
    "$$\n",
    "$$\n",
    "AI=A\n",
    "$$"
   ]
  },
  {
   "cell_type": "code",
   "execution_count": 263,
   "metadata": {},
   "outputs": [],
   "source": [
    "e = matrix([[1, 3, 5], [7, 7, 3], [4, 5, 6], [8, 8, 8]])\n",
    "f = matrix([[5, 4, 3], [4, 4, 4], [2, 9, 8], [1, 1, 3]])\n",
    "g = matrix([[5, 4, 3, 5], [4, 4, 4, 3], [2, 9, 8, 7]])\n",
    "h = matrix([[5, 4, 3], [4, 4, 4], [2, 9, 8]])\n",
    "j = matrix([[3, 3, 3], [5, 4, 4], [1, 9, 8]])\n",
    "i = eye(3)"
   ]
  },
  {
   "cell_type": "code",
   "execution_count": 247,
   "metadata": {},
   "outputs": [
    {
     "data": {
      "text/plain": [
       "True"
      ]
     },
     "execution_count": 247,
     "metadata": {},
     "output_type": "execute_result"
    }
   ],
   "source": [
    "(e*g)*h == e*(g*h)"
   ]
  },
  {
   "cell_type": "code",
   "execution_count": 248,
   "metadata": {},
   "outputs": [
    {
     "data": {
      "text/plain": [
       "True"
      ]
     },
     "execution_count": 248,
     "metadata": {},
     "output_type": "execute_result"
    }
   ],
   "source": [
    "(e+f)*g == (e*g)+(f*g)"
   ]
  },
  {
   "cell_type": "code",
   "execution_count": 251,
   "metadata": {},
   "outputs": [
    {
     "data": {
      "text/plain": [
       "False"
      ]
     },
     "execution_count": 251,
     "metadata": {},
     "output_type": "execute_result"
    }
   ],
   "source": [
    "(j*h) == (h*j)"
   ]
  },
  {
   "cell_type": "code",
   "execution_count": 266,
   "metadata": {},
   "outputs": [
    {
     "data": {
      "text/plain": [
       "True"
      ]
     },
     "execution_count": 266,
     "metadata": {},
     "output_type": "execute_result"
    }
   ],
   "source": [
    "(j*i) == j"
   ]
  }
 ],
 "metadata": {
  "kernelspec": {
   "display_name": "Python 3",
   "language": "python",
   "name": "python3"
  },
  "language_info": {
   "codemirror_mode": {
    "name": "ipython",
    "version": 3
   },
   "file_extension": ".py",
   "mimetype": "text/x-python",
   "name": "python",
   "nbconvert_exporter": "python",
   "pygments_lexer": "ipython3",
   "version": "3.8.2"
  }
 },
 "nbformat": 4,
 "nbformat_minor": 2
}
