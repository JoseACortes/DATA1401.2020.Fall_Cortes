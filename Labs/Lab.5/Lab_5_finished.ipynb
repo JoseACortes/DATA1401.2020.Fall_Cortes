{
  "nbformat": 4,
  "nbformat_minor": 0,
  "metadata": {
    "kernelspec": {
      "display_name": "Python 3",
      "language": "python",
      "name": "python3"
    },
    "language_info": {
      "codemirror_mode": {
        "name": "ipython",
        "version": 3
      },
      "file_extension": ".py",
      "mimetype": "text/x-python",
      "name": "python",
      "nbconvert_exporter": "python",
      "pygments_lexer": "ipython3",
      "version": "3.8.1"
    },
    "colab": {
      "name": "Copy of Lab-5.ipynb",
      "provenance": [],
      "collapsed_sections": []
    }
  },
  "cells": [
    {
      "cell_type": "markdown",
      "metadata": {
        "id": "aMOxK4aTbF_L"
      },
      "source": [
        "# Lab 5- Object Oriented Programming\n",
        "\n",
        "[![Open In Colab](https://colab.research.google.com/assets/colab-badge.svg)](https://colab.research.google.com/github//afarbin/DATA1401-Spring-2020/blob/master/Labs/Lab-5/Lab-5.ipynb)\n",
        "\n",
        "For all of the exercises below, make sure you provide tests of your solutions.\n"
      ]
    },
    {
      "cell_type": "markdown",
      "metadata": {
        "id": "ZPOxQZiAbF_N"
      },
      "source": [
        "1. Write a \"counter\" class that can be incremented up to a specified maximum value, will print an error if an attempt is made to increment beyond that value, and allows reseting the counter. "
      ]
    },
    {
      "cell_type": "code",
      "metadata": {
        "id": "TgRaeBk8bF_O"
      },
      "source": [
        "class counter:\n",
        "    def __init__(self,max_val):\n",
        "        self.max_val=max_val\n",
        "        self.cur_val=1\n",
        "        print(self.cur_val)\n",
        "        \n",
        "    def increment(self):\n",
        "        if self.cur_val>self.max_val:\n",
        "            print(\"Max value reached.\")\n",
        "        else:\n",
        "            self.cur_val+=1\n",
        "            print(self.cur_val)\n",
        "\n",
        "    def reset(self):\n",
        "        self.cur_val=1\n",
        "        print(self.cur_val)\n",
        "        "
      ],
      "execution_count": null,
      "outputs": []
    },
    {
      "cell_type": "code",
      "metadata": {
        "id": "gQsxFYbTbF_T",
        "outputId": "5e50896c-0352-416a-9e1a-8d9d4d1a443d",
        "colab": {
          "base_uri": "https://localhost:8080/"
        }
      },
      "source": [
        "my_counter=counter(3)"
      ],
      "execution_count": null,
      "outputs": [
        {
          "output_type": "stream",
          "text": [
            "1\n"
          ],
          "name": "stdout"
        }
      ]
    },
    {
      "cell_type": "code",
      "metadata": {
        "id": "bVo8VZchbF_Y",
        "outputId": "6bd96211-21bd-4de8-d887-ad4bdb577cd5",
        "colab": {
          "base_uri": "https://localhost:8080/"
        }
      },
      "source": [
        "my_counter=counter(3)\n",
        "my_counter.increment()\n",
        "my_counter.increment()\n",
        "my_counter.increment()\n",
        "my_counter.increment()\n",
        "my_counter.increment()\n",
        "my_counter.reset()\n",
        "my_counter.increment()\n",
        "my_counter.increment()\n",
        "my_counter.increment()\n",
        "my_counter.increment()"
      ],
      "execution_count": null,
      "outputs": [
        {
          "output_type": "stream",
          "text": [
            "1\n",
            "2\n",
            "3\n",
            "4\n",
            "Max value reached.\n",
            "Max value reached.\n",
            "1\n",
            "2\n",
            "3\n",
            "4\n",
            "Max value reached.\n"
          ],
          "name": "stdout"
        }
      ]
    },
    {
      "cell_type": "code",
      "metadata": {
        "id": "LK6HrCW5bF_c"
      },
      "source": [
        "my_counter.cur_val=100"
      ],
      "execution_count": null,
      "outputs": []
    },
    {
      "cell_type": "markdown",
      "metadata": {
        "id": "FL9-Y-JdbF_f"
      },
      "source": [
        "2. Copy and paste your solution to question 1 and modify it so that all the data held by the counter is private. Implement functions to check the value of the counter, check the maximum value, and check if the counter is at the maximum."
      ]
    },
    {
      "cell_type": "code",
      "metadata": {
        "id": "5b4iLa5-bF_f"
      },
      "source": [
        "class counter:\n",
        "    def __init__(self,max_val):\n",
        "        self.__max_val=max_val\n",
        "        self.__cur_val=1\n",
        "        \n",
        "    def increment(self):\n",
        "        if self.__cur_val>self.__max_val:\n",
        "            print(\"Max value reached.\")\n",
        "        else:\n",
        "            self.__cur_val+=1\n",
        "            \n",
        "    def reset(self):\n",
        "        self.__cur_val=1\n",
        "        \n",
        "    def cur_val(self):\n",
        "        return self.__cur_val\n",
        "\n",
        "    def max_val(self):\n",
        "        return self.__max_val\n",
        "\n"
      ],
      "execution_count": null,
      "outputs": []
    },
    {
      "cell_type": "code",
      "metadata": {
        "id": "JQUJS52mbF_i"
      },
      "source": [
        "my_counter=counter(3)"
      ],
      "execution_count": null,
      "outputs": []
    },
    {
      "cell_type": "code",
      "metadata": {
        "id": "X1XGTy5obF_l",
        "outputId": "bb1b2e97-5cab-404c-cce9-ca011668874f",
        "colab": {
          "base_uri": "https://localhost:8080/"
        }
      },
      "source": [
        "my_counter.cur_val()"
      ],
      "execution_count": null,
      "outputs": [
        {
          "output_type": "execute_result",
          "data": {
            "text/plain": [
              "1"
            ]
          },
          "metadata": {
            "tags": []
          },
          "execution_count": 16
        }
      ]
    },
    {
      "cell_type": "markdown",
      "metadata": {
        "id": "UzTq0fGAbF_q"
      },
      "source": [
        "3. Implement a class to represent a rectangle, holding the length, width, and $x$ and $y$ coordinates of a corner of the object. Implement functions that compute the area and parameter of the rectangle. Make all data members private and privide accessors to retrieve values of data members. "
      ]
    },
    {
      "cell_type": "code",
      "metadata": {
        "id": "T6g-mkFxbF_r"
      },
      "source": [
        "class rectangle:\n",
        "    def __init__(self,length, width,x,y):\n",
        "        self.__width=width\n",
        "        self.__length=length\n",
        "        self.__x=x\n",
        "        self.__y=y\n",
        "        \n",
        "    def area(self):\n",
        "        return self.__width*self.__length\n",
        "    \n",
        "    def perameter(self):\n",
        "        return 2*(self.__width+self.__length)\n",
        "    \n",
        "    def x(self):\n",
        "        return self.__x\n",
        "    \n",
        "    def y(self):\n",
        "        return self.__y\n",
        "    ...\n",
        "\n",
        "        "
      ],
      "execution_count": null,
      "outputs": []
    },
    {
      "cell_type": "code",
      "metadata": {
        "id": "t_A2BcsilNFq"
      },
      "source": [
        "r = rectangle(3, 4, 10, 13)"
      ],
      "execution_count": null,
      "outputs": []
    },
    {
      "cell_type": "code",
      "metadata": {
        "id": "Xljo1aBIloQJ",
        "outputId": "6e1ff718-35b7-4607-993a-55db0524612a",
        "colab": {
          "base_uri": "https://localhost:8080/"
        }
      },
      "source": [
        "print(r.area())\n",
        "print(r.perimeter())\n",
        "print(r.x())\n",
        "print(r.y())"
      ],
      "execution_count": null,
      "outputs": [
        {
          "output_type": "stream",
          "text": [
            "12\n",
            "14\n",
            "10\n",
            "13\n"
          ],
          "name": "stdout"
        }
      ]
    },
    {
      "cell_type": "markdown",
      "metadata": {
        "id": "AK5sJwllbF_t"
      },
      "source": [
        "4. Implement a class to represent a circle, holding the radius and $x$ and $y$ coordinates of center of the object. Implement functions that compute the area and parameter of the rectangle. Make all data members private and privide accessors to retrieve values of data members. "
      ]
    },
    {
      "cell_type": "code",
      "metadata": {
        "id": "uVBF9hpCmohm"
      },
      "source": [
        "class circle:\n",
        "  def __init__(self, radius, x, y):\n",
        "    self.__radius = radius\n",
        "    self.__x = x\n",
        "    self.__y = y\n",
        "  def area(self):\n",
        "    return (self.__radius*self.__radius)*3.1415\n",
        "  def parameter(self):\n",
        "    return 2*self.__radius*3.1415\n",
        "  def radius(self):\n",
        "    return self.__radius\n",
        "  def x(self):\n",
        "    return self.__x\n",
        "  def y(self):\n",
        "    return self.__y"
      ],
      "execution_count": null,
      "outputs": []
    },
    {
      "cell_type": "code",
      "metadata": {
        "id": "iv0Khbx8rWTz",
        "outputId": "e541cec1-c10e-4d08-c2b2-f6931d5e6f32",
        "colab": {
          "base_uri": "https://localhost:8080/"
        }
      },
      "source": [
        "c = circle(3, 5, 10)\n",
        "print(c.area())\n",
        "print(c.parameter())\n",
        "print(c.radius())\n",
        "print(c.x())\n",
        "print(c.y())"
      ],
      "execution_count": null,
      "outputs": [
        {
          "output_type": "stream",
          "text": [
            "28.273500000000002\n",
            "18.849\n",
            "3\n",
            "5\n",
            "10\n"
          ],
          "name": "stdout"
        }
      ]
    },
    {
      "cell_type": "markdown",
      "metadata": {
        "id": "9vY-ifWvbF_t"
      },
      "source": [
        "5. Implement a common base class for the classes implemented in 3 and 4 above which implements all common methods as dummy functions. Re-implement those classes to inherit from the base class and overload the functions accordingly. "
      ]
    },
    {
      "cell_type": "code",
      "metadata": {
        "id": "hIutMFuwumgr"
      },
      "source": [
        "class shape:\n",
        "    def x(self):\n",
        "        raise NotImplementedError\n",
        "    def y(self):\n",
        "        raise NotImplementedError\n",
        "    def area(self):\n",
        "        raise NotImplementedError\n",
        "    def parameter(self):\n",
        "        raise NotImplementedError\n",
        "    def check(self):\n",
        "        raise NotImplementedError\n",
        "    def testoverlap(self, other):\n",
        "        tlist = other.trace()\n",
        "        for t in tlist:\n",
        "            if self.check(t[0], t[1]) == True:\n",
        "                return True\n",
        "                break\n",
        "        return False\n",
        "\n",
        "class rectangle(shape):\n",
        "    def __init__(self,length,width,x,y):\n",
        "        self.__width=width\n",
        "        self.__length=length\n",
        "        self.__x=x\n",
        "        self.__y=y\n",
        "    def area(self):\n",
        "        return self.__width*self.__length\n",
        "    def perameter(self):\n",
        "        return 2*(self.__width+self.__length)\n",
        "    def x(self):\n",
        "        return self.__x\n",
        "    def y(self):\n",
        "        return self.__y\n",
        "    def check(self, a, b):\n",
        "        xlims = [self.__x, self.__x+self.__length]\n",
        "        ylims = [self.__y, self.__y+self.__width]\n",
        "        return xlims[0] <= a and a <= xlims[1] and ylims[0] <= b and b <= ylims[1]\n",
        "    def trace(self):\n",
        "        w = self.__width\n",
        "        l = self.__length\n",
        "        fintrac = list()\n",
        "        xlims = [self.__x, self.__x+self.__length]\n",
        "        ylims = [self.__y, self.__y+self.__width]\n",
        "        for i in xlims:\n",
        "            for e in ylims:\n",
        "                fintrac.append((i, e))\n",
        "        for i in range(1, 4):\n",
        "            fintrac.append((xlims[0], ylims[0]+i*(w/4)))\n",
        "            fintrac.append((xlims[1], ylims[0]+i*(w/4)))\n",
        "            fintrac.append((xlims[0]+i*(l/4), ylims[0]))\n",
        "            fintrac.append((xlims[0]+i*(l/4), ylims[1]))\n",
        "        return fintrac\n",
        "    def testoverlap(self, other):\n",
        "        return super().testoverlap(other)\n",
        "\n",
        "class circle(shape):\n",
        "    def __init__(self, radius, x, y):\n",
        "        self.__radius = radius\n",
        "        self.__x = x\n",
        "        self.__y = y\n",
        "    def area(self):\n",
        "        return (self.__radius*self.__radius)*3.1415\n",
        "    def parameter(self):\n",
        "        return 2*self.__radius*3.1415\n",
        "    def radius(self):\n",
        "        return self.__radius\n",
        "    def x(self):\n",
        "        return self.__x\n",
        "    def y(self):\n",
        "        return self.__y\n",
        "    def check(self, a, b):\n",
        "        e = abs(self.__x-a)\n",
        "        f = abs(self.__y-b)\n",
        "        g = (e*e)+(f*f)\n",
        "        if g <= (self.__radius)*(self.__radius):\n",
        "          return True\n",
        "        else:\n",
        "          return False\n",
        "    def trace(self):\n",
        "        fintrac = list()\n",
        "        a=1\n",
        "        b = .866\n",
        "        c = .707\n",
        "        d = .5\n",
        "        e = 0\n",
        "        cos = [a, b, c, d, e, -d, -c, -b, -a, -b, -c, -d, e, d, c, b]\n",
        "        sin = [e, d, c, b, a, b, c, d, e, -d, -c, -b, -a, -b, -c, -d]\n",
        "        for i in range(0, 16):\n",
        "            f = (self.__x+(cos[i]*self.__radius), self.__y+(sin[i]*self.__radius))\n",
        "            fintrac.append(f)\n",
        "        return fintrac\n",
        "    def testoverlap(self, other):\n",
        "        return super().testoverlap(other)\n",
        "\n",
        "class triangle(shape):\n",
        "    def __init__(self, width, height, x, y):\n",
        "        self.__width=width\n",
        "        self.__height=height\n",
        "        self.__x=x\n",
        "        self.__y=y\n",
        "    def x(self):\n",
        "        return self.__x\n",
        "    def y(self):\n",
        "        return self.__y\n",
        "    def area(self):\n",
        "        return (self.__width*self.__height)/2\n",
        "    def parameter(self):\n",
        "        a = self.__width/2\n",
        "        b = self.__height\n",
        "        return 2*(((a**2)+(b**2))**.5)+self.__width\n",
        "    def check(self, a, b):\n",
        "        e = abs(self.__x-a)\n",
        "        f = b-self.__y\n",
        "        if e <= self.__width/2:\n",
        "            n = self.__height-e*(self.__height/(self.__width/2))\n",
        "            if f <= n and f>=0:\n",
        "                return True\n",
        "            else:\n",
        "                return False\n",
        "        else:\n",
        "            return False\n",
        "    def trace(self):\n",
        "        fintrac = list()\n",
        "        x = self.__x\n",
        "        y = self.__y\n",
        "        a = self.__width/2\n",
        "        b = self.__height\n",
        "        r = (-b/a)\n",
        "        fintrac.append((x, y))\n",
        "        fintrac.append((x+(a/3), y))\n",
        "        fintrac.append((x-(a/3), y))\n",
        "        fintrac.append((x+(2*a/3), y))\n",
        "        fintrac.append((x-(2*a/3), y))\n",
        "        fintrac.append((x+a, y))\n",
        "        fintrac.append((x-a, y))\n",
        "        fintrac.append((x, y+b))\n",
        "        for i in range(1, 5):\n",
        "            fintrac.append((x+i*(a/5), y+b+i*(a/5)*r))\n",
        "            fintrac.append((x-i*(a/5), y+b+i*(a/5)*r))\n",
        "        return fintrac\n",
        "    def testoverlap(self, other):\n",
        "        return super().testoverlap(other)"
      ],
      "execution_count": 41,
      "outputs": []
    },
    {
      "cell_type": "code",
      "metadata": {
        "id": "7IATBHJ1D_GN"
      },
      "source": [
        "r = rectangle(6, 4, 6, 1)\n",
        "c = circle(3, 9, 7)"
      ],
      "execution_count": 42,
      "outputs": []
    },
    {
      "cell_type": "markdown",
      "metadata": {
        "id": "-YBEEyybbF_u"
      },
      "source": [
        "6. Implement an analogous triangle class."
      ]
    },
    {
      "cell_type": "code",
      "metadata": {
        "id": "AwMMFETqDf20"
      },
      "source": [
        "t = triangle(6, 5, 4, 2)"
      ],
      "execution_count": 43,
      "outputs": []
    },
    {
      "cell_type": "markdown",
      "metadata": {
        "id": "cAddFjKsbF_v"
      },
      "source": [
        "7. Add a function to the object classes that test if a given set of $x$ and $y$ coordinates are inside of the object."
      ]
    },
    {
      "cell_type": "code",
      "metadata": {
        "id": "4ILiaV1fEbLr",
        "outputId": "4b6258c4-4bfb-4b3d-c514-21363c8a5909",
        "colab": {
          "base_uri": "https://localhost:8080/"
        }
      },
      "source": [
        "print(t.check(3, 3))\n",
        "print(t.check(1, 1))\n",
        "print(r.check(7, 1))\n",
        "print(r.check(7, 0))\n",
        "print(c.check(9, 7))\n",
        "print(c.check(11, 4))"
      ],
      "execution_count": 44,
      "outputs": [
        {
          "output_type": "stream",
          "text": [
            "True\n",
            "False\n",
            "True\n",
            "False\n",
            "True\n",
            "False\n"
          ],
          "name": "stdout"
        }
      ]
    },
    {
      "cell_type": "markdown",
      "metadata": {
        "id": "v4OXsPkkbF_v"
      },
      "source": [
        "8. Add a function to the object classes that return a list of up to 16 pairs of  $x$ and $y$ points on the parameter of the object.\n",
        "\n"
      ]
    },
    {
      "cell_type": "code",
      "metadata": {
        "id": "Il4PPiJXFleZ",
        "outputId": "cbcb9d08-aa6b-41eb-ea13-b287163fa049",
        "colab": {
          "base_uri": "https://localhost:8080/"
        }
      },
      "source": [
        "print(r.trace())\n",
        "print(t.trace())\n",
        "print(c.trace())"
      ],
      "execution_count": 45,
      "outputs": [
        {
          "output_type": "stream",
          "text": [
            "[(6, 1), (6, 5), (12, 1), (12, 5), (6, 2.0), (12, 2.0), (7.5, 1), (7.5, 5), (6, 3.0), (12, 3.0), (9.0, 1), (9.0, 5), (6, 4.0), (12, 4.0), (10.5, 1), (10.5, 5)]\n",
            "[(4, 2), (5.0, 2), (3.0, 2), (6.0, 2), (2.0, 2), (7.0, 2), (1.0, 2), (4, 7), (4.6, 6.0), (3.4, 6.0), (5.2, 5.0), (2.8, 5.0), (5.8, 4.0), (2.2, 4.0), (6.4, 3.0), (1.6, 3.0)]\n",
            "[(12, 7), (11.597999999999999, 8.5), (11.121, 9.121), (10.5, 9.597999999999999), (9, 10), (7.5, 9.597999999999999), (6.879, 9.121), (6.402, 8.5), (6, 7), (6.402, 5.5), (6.879, 4.879), (7.5, 4.402), (9, 4), (10.5, 4.402), (11.121, 4.879), (11.597999999999999, 5.5)]\n"
          ],
          "name": "stdout"
        }
      ]
    },
    {
      "cell_type": "markdown",
      "metadata": {
        "id": "ZL11rsIObF_w"
      },
      "source": [
        "9. Add a function in the base class of the object classes that returns true/false testing that the object overlaps with another object."
      ]
    },
    {
      "cell_type": "code",
      "metadata": {
        "id": "QaRHoOSgFzr3",
        "outputId": "a8d85a68-f38d-4a8c-bc65-4e6a20b93f46",
        "colab": {
          "base_uri": "https://localhost:8080/"
        }
      },
      "source": [
        "print(r.testoverlap(t))\n",
        "print(t.testoverlap(c))\n",
        "print(c.testoverlap(r))"
      ],
      "execution_count": 46,
      "outputs": [
        {
          "output_type": "stream",
          "text": [
            "True\n",
            "False\n",
            "True\n"
          ],
          "name": "stdout"
        }
      ]
    }
  ]
}