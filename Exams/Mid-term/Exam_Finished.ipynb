{
  "nbformat": 4,
  "nbformat_minor": 0,
  "metadata": {
    "kernelspec": {
      "display_name": "Python 3",
      "language": "python",
      "name": "python3"
    },
    "language_info": {
      "codemirror_mode": {
        "name": "ipython",
        "version": 3
      },
      "file_extension": ".py",
      "mimetype": "text/x-python",
      "name": "python",
      "nbconvert_exporter": "python",
      "pygments_lexer": "ipython3",
      "version": "3.8.0"
    },
    "colab": {
      "name": "Copy of Exam.ipynb",
      "provenance": [],
      "collapsed_sections": []
    }
  },
  "cells": [
    {
      "cell_type": "markdown",
      "metadata": {
        "id": "USw0haFZYcoG"
      },
      "source": [
        "# Mid-term Exam\n",
        "\n",
        "[![Open In Colab](https://colab.research.google.com/assets/colab-badge.svg)](https://colab.research.google.com/github/UTA-DataScience/DATA1401.2020.Fall/blob/master/Exams/Mid-term/Exam.ipynb)\n",
        "\n",
        "Add cells to this notebook as you need for your solutions and your test of your solutions."
      ]
    },
    {
      "cell_type": "markdown",
      "metadata": {
        "id": "IyaExwGeYcoI"
      },
      "source": [
        "1a. Write a function `first_alphabetically(lst)` that takes a list `lst` of strings and returns the string that is alphabetically first. For example, calling your function with the list of states:"
      ]
    },
    {
      "cell_type": "code",
      "metadata": {
        "id": "Psb4zzaQYcoI"
      },
      "source": [
        "states=['Mississippi', 'Maryland', 'Delaware', 'Connecticut', 'Virginia', 'Utah', 'Kansas',\n",
        "        'Wyoming', 'Indiana', 'Louisiana', 'Missouri', 'Illinois', 'Minnesota', 'Vermont', \n",
        "        'New Mexico', 'North Dakota', 'Wisconsin', 'Tennessee', 'New York', 'Oklahoma', \n",
        "        'Colorado', 'Pennsylvania', 'West Virginia', 'Alabama', 'Montana', 'Texas', \n",
        "        'Washington', 'Michigan', 'New Hampshire', 'Arkansas', 'Hawaii', 'Iowa', \n",
        "        'Idaho', 'Kentucky', 'Ohio', 'Nebraska', 'Alaska', 'Oregon', 'South Dakota', \n",
        "        'New Jersey', 'Florida', 'Georgia', 'Rhode Island', 'Arizona', 'Maine', \n",
        "        'South Carolina', 'California', 'Nevada', 'Massachusetts', 'North Carolina']"
      ],
      "execution_count": null,
      "outputs": []
    },
    {
      "cell_type": "code",
      "metadata": {
        "id": "skhXH19uYknf"
      },
      "source": [
        "def first_alphabetically(lst):\n",
        "  ordered_list = ['']\n",
        "  for s in states:\n",
        "    for o in range(len(ordered_list)):\n",
        "      if s < ordered_list[o]:\n",
        "        ordered_list[o+1:] = ordered_list[o:]\n",
        "        ordered_list[o] = s\n",
        "        break\n",
        "    if s > ordered_list[-1]:\n",
        "      ordered_list.append(s)\n",
        "  ordered_list.pop(0)\n",
        "  return ordered_list[0]"
      ],
      "execution_count": null,
      "outputs": []
    },
    {
      "cell_type": "markdown",
      "metadata": {
        "id": "vPqS-FkeYcoL"
      },
      "source": [
        "should return the string `\"Alabama\"`. Note that you can compare strings:"
      ]
    },
    {
      "cell_type": "code",
      "metadata": {
        "id": "Coxp2UadYcoL",
        "outputId": "b555355e-25c1-4b57-e137-34209dbff645",
        "colab": {
          "base_uri": "https://localhost:8080/"
        }
      },
      "source": [
        "print(\"A\">\"B\")\n",
        "print(\"B\">\"A\")\n",
        "print(\"a\"<\"B\")\n",
        "print(\"bca\">\"bbc\")"
      ],
      "execution_count": null,
      "outputs": [
        {
          "output_type": "stream",
          "text": [
            "False\n",
            "True\n",
            "False\n",
            "True\n"
          ],
          "name": "stdout"
        }
      ]
    },
    {
      "cell_type": "markdown",
      "metadata": {
        "id": "Gkbhh7UfYcoN"
      },
      "source": [
        "Make sure your implementation isn't case sensitive. **Do not use** python's built-in `min`, `max`, `sort` or any other sort function you find."
      ]
    },
    {
      "cell_type": "markdown",
      "metadata": {
        "id": "3r7BzHsQYcoO"
      },
      "source": [
        "1b. Write a function `arg_first_alphabetically(lst)`, which does the same thing as in exercise 1 but returns the index of the first string alphabetically."
      ]
    },
    {
      "cell_type": "code",
      "metadata": {
        "id": "gYXdBwDudtlx"
      },
      "source": [
        "def arg_first_alphabetically(lst):\n",
        "  return lst.index(first_alphabetically(lst))"
      ],
      "execution_count": null,
      "outputs": []
    },
    {
      "cell_type": "markdown",
      "metadata": {
        "id": "0ODYMQpbYcoP"
      },
      "source": [
        "1c. Use your result in question 2 to implement a function `arg_sort_alphabetically(lst)` that returns a list that is alphabetically sorted. Sorting can be accomplished by successively applying the function in question 1 and removing the first element alphabetically. You can remove an element from a list using `pop()`. Make sure your implementation isn't case sensitive. Do not use python's built-in `min`, `max`, `sort` or any other sort function you find."
      ]
    },
    {
      "cell_type": "code",
      "metadata": {
        "id": "BOOexyG9eE-l"
      },
      "source": [
        "def arg_sort_alphabetically(lst):\n",
        "  ordered_list = ['']\n",
        "  for s in states:\n",
        "    for o in range(len(ordered_list)):\n",
        "      if s < ordered_list[o]:\n",
        "        ordered_list[o+1:] = ordered_list[o:]\n",
        "        ordered_list[o] = s\n",
        "        break\n",
        "    if s > ordered_list[-1]:\n",
        "      ordered_list.append(s)\n",
        "  ordered_list.pop(0)\n",
        "  return ordered_list"
      ],
      "execution_count": null,
      "outputs": []
    },
    {
      "cell_type": "code",
      "metadata": {
        "id": "FhGIitucfDrC",
        "outputId": "87086b1a-6e48-4d6a-e103-47a4f5935621",
        "colab": {
          "base_uri": "https://localhost:8080/"
        }
      },
      "source": [
        "print(first_alphabetically(states))\n",
        "print(arg_first_alphabetically(states))\n",
        "print(arg_sort_alphabetically(states))"
      ],
      "execution_count": null,
      "outputs": [
        {
          "output_type": "stream",
          "text": [
            "Alabama\n",
            "23\n",
            "['Alabama', 'Alaska', 'Arizona', 'Arkansas', 'California', 'Colorado', 'Connecticut', 'Delaware', 'Florida', 'Georgia', 'Hawaii', 'Idaho', 'Illinois', 'Indiana', 'Iowa', 'Kansas', 'Kentucky', 'Louisiana', 'Maine', 'Maryland', 'Massachusetts', 'Michigan', 'Minnesota', 'Mississippi', 'Missouri', 'Montana', 'Nebraska', 'Nevada', 'New Hampshire', 'New Jersey', 'New Mexico', 'New York', 'North Carolina', 'North Dakota', 'Ohio', 'Oklahoma', 'Oregon', 'Pennsylvania', 'Rhode Island', 'South Carolina', 'South Dakota', 'Tennessee', 'Texas', 'Utah', 'Vermont', 'Virginia', 'Washington', 'West Virginia', 'Wisconsin', 'Wyoming']\n"
          ],
          "name": "stdout"
        }
      ]
    },
    {
      "cell_type": "markdown",
      "metadata": {
        "id": "sHyMNHPpYcoP"
      },
      "source": [
        "2. Implement a function `outer_product` that takes two one-dimensional lists of numbers and returns the two-dimensional outer product matrix defined as:\n",
        "\n",
        "\\begin{equation*}\n",
        "\\begin{pmatrix} x_1\\\\x_2\\\\ \\vdots \\\\x_m \\end{pmatrix} \\begin{pmatrix} y_1&y_2& \\dots &y_n\\end{pmatrix} =\n",
        "\\begin{pmatrix}\n",
        "x_1y_1 & x_1y_2 & \\dots & x_1y_n\\\\\n",
        "x_2y_1 & x_2y_2 & \\dots & x_2y_n\\\\\n",
        "\\vdots & \\vdots & \\ddots & \\vdots \\\\\n",
        "x_my_1 & x_my_2 & \\dots & x_my_n\n",
        "\\end{pmatrix}\n",
        "\\end{equation*}\n",
        "\n",
        "In other words the elements of matrix C which is the outer product of A and B are $c_{ij} = a_i b_j$."
      ]
    },
    {
      "cell_type": "code",
      "metadata": {
        "id": "8x2dg0kWgWCz"
      },
      "source": [
        "def outer_product(vertical = [1], horizontal = [1]):\n",
        "  matrix = list()\n",
        "  for x in vertical:\n",
        "    temp_row = list()\n",
        "    for y in horizontal:\n",
        "      temp_row.append(x*y)\n",
        "    matrix.append(temp_row)\n",
        "  return matrix"
      ],
      "execution_count": null,
      "outputs": []
    },
    {
      "cell_type": "code",
      "metadata": {
        "id": "FCVqWzzHhPez",
        "outputId": "a1af3932-1786-40e4-88a1-1c38fd97d170",
        "colab": {
          "base_uri": "https://localhost:8080/"
        }
      },
      "source": [
        "outer_product([1, 0, 3, 5], [5, 4, 2])"
      ],
      "execution_count": null,
      "outputs": [
        {
          "output_type": "execute_result",
          "data": {
            "text/plain": [
              "[[5, 4, 2], [0, 0, 0], [15, 12, 6], [25, 20, 10]]"
            ]
          },
          "metadata": {
            "tags": []
          },
          "execution_count": 8
        }
      ]
    },
    {
      "cell_type": "markdown",
      "metadata": {
        "id": "RvwVnRIXYcoP"
      },
      "source": [
        "3a. Implement a function `cumulative_sum(lst)` that takes a list of numbers and returns a list of same size where the element `i` is the sum of the elements `0` to `i` of the input list. For example given `[1,2,3]`, you should return [1,3,6]."
      ]
    },
    {
      "cell_type": "code",
      "metadata": {
        "id": "YpfDpWjZhrMc"
      },
      "source": [
        "def cumulative_sum(lst):\n",
        "  cumu_list = [lst[0]]\n",
        "  for i in range(len(lst)-1):\n",
        "    cumu_list.append(cumu_list[i]+lst[i+1])\n",
        "  return cumu_list"
      ],
      "execution_count": null,
      "outputs": []
    },
    {
      "cell_type": "code",
      "metadata": {
        "id": "ShtAUd17pYUS",
        "outputId": "6ce2507b-1cd9-4006-f6fb-879a14a80d56",
        "colab": {
          "base_uri": "https://localhost:8080/"
        }
      },
      "source": [
        "cumulative_sum([1, 2, 3, 5, 5, 6])"
      ],
      "execution_count": null,
      "outputs": [
        {
          "output_type": "execute_result",
          "data": {
            "text/plain": [
              "[1, 3, 6, 11, 16, 22]"
            ]
          },
          "metadata": {
            "tags": []
          },
          "execution_count": 10
        }
      ]
    },
    {
      "cell_type": "markdown",
      "metadata": {
        "id": "E1bh0CNXYcoQ"
      },
      "source": [
        "3b. Imagine you have a normal distributed random variable `x`. For example `x` can be grades on this exam. Using the normal distribution generator and histogram functions from lecture (provided below) and `cumulative_sum` from previous question to compute what is the value of $x_{90}$ in $\\sigma$ such that 90% of the values $x$ are below $x_{90}$. In other words:"
      ]
    },
    {
      "cell_type": "markdown",
      "metadata": {
        "id": "YnlL6hHlYcoQ"
      },
      "source": [
        "$$\n",
        "\\int_{-\\infty}^{x_{90}} N(x;\\mu=0,\\sigma=1) dx = 0.9\n",
        "$$"
      ]
    },
    {
      "cell_type": "code",
      "metadata": {
        "id": "JAkbuRNBYcoQ"
      },
      "source": [
        "import math,random\n",
        "\n",
        "def arange(x_min,x_max,steps=10):\n",
        "    step_size=(x_max-x_min)/steps\n",
        "    x=x_min\n",
        "    out = list()\n",
        "    for i in range(steps):\n",
        "        out.append(x)\n",
        "        x+=step_size\n",
        "    return out\n",
        "\n",
        "def generate_normal(N,m=0,s=1):\n",
        "    out = list() \n",
        "    \n",
        "    while len(out)<N:\n",
        "#    for _ in range(int(float(N)/2)+1):\n",
        "        U1=random.random()\n",
        "        U2=random.random()\n",
        "    \n",
        "        out.append(s*math.sqrt(-2*math.log(U1))*math.cos(2*math.pi*U2)+m)\n",
        "        out.append(s*math.sqrt(-2*math.log(U1))*math.sin(2*math.pi*U2)+m)\n",
        "\n",
        "    return out[:N]\n",
        "\n",
        "def histogram(data, n_bins=10,x_min=None, x_max=None):\n",
        "    if x_min==None:\n",
        "        x_min=min(data)\n",
        "    if x_max==None:\n",
        "        x_max=max(data)\n",
        "        \n",
        "    bin_edges = arange(x_min,x_max,n_bins)\n",
        "    bin_edges.append(x_max)\n",
        "\n",
        "    hist=[0]*n_bins\n",
        "    \n",
        "    for d in data:\n",
        "        for i in range(n_bins):\n",
        "            if d>=bin_edges[i] and d<bin_edges[i+1]:\n",
        "                hist[i]+=1\n",
        "                break\n",
        "                \n",
        "    return hist,bin_edges\n",
        "\n"
      ],
      "execution_count": null,
      "outputs": []
    },
    {
      "cell_type": "code",
      "metadata": {
        "id": "FAaTRxUF8lGn",
        "outputId": "58f9774d-ad14-4002-cf86-1845e9a90b7f",
        "colab": {
          "base_uri": "https://localhost:8080/"
        }
      },
      "source": [
        "x90 = 1.3\n",
        "t1 = generate_normal(10000)\n",
        "t2 = histogram(t1, x_max=x90)[0]\n",
        "t3 = ((cumulative_sum(t2)[-1])/len(t1))\n",
        "print(t3)"
      ],
      "execution_count": null,
      "outputs": [
        {
          "output_type": "stream",
          "text": [
            "0.9028\n"
          ],
          "name": "stdout"
        }
      ]
    },
    {
      "cell_type": "markdown",
      "metadata": {
        "id": "0XjuL01gvDaC"
      },
      "source": [
        "$x_{90}$ = 1.3"
      ]
    },
    {
      "cell_type": "markdown",
      "metadata": {
        "id": "9xT441QTYcoS"
      },
      "source": [
        "4a. Recall in quiz 1 we implemented parts of a poker game in python. The solution to quiz 1 is below. Modify the `flush`, `straight`, and `straight_flush` functions to return `None` instead of `False` and the highest card (value-wise) instead of \"True\"."
      ]
    },
    {
      "cell_type": "code",
      "metadata": {
        "id": "uC6qmO4gYcoT"
      },
      "source": [
        "suits = [\"Clubs\", \"Diamonds\", \"Hearts\", \"Spades\"]\n",
        "values = list(range(2,11)) + [ \"Jack\", \"Queen\", \"King\", \"Ace\"]\n",
        "\n",
        "def make_deck():\n",
        "    deck=list()\n",
        "    for suit in suits:\n",
        "        for value in values:\n",
        "            deck.append((suit,value))\n",
        "    return deck\n",
        "\n",
        "def highest_card(han):\n",
        "  highest_card = 0\n",
        "  for card in han:\n",
        "    c = values.index(card[1])\n",
        "    if c > highest_card:\n",
        "      highest_card = c\n",
        "  return highest_card\n",
        "\n",
        "\n",
        "def flush(hand):\n",
        "    suit=None\n",
        "    for card in hand:\n",
        "        if suit:\n",
        "            if not card[0]==suit:\n",
        "                return None\n",
        "        else:\n",
        "            suit=card[0]\n",
        "    return highest_card(hand)\n",
        "\n",
        "def consecutive(lst): \n",
        "    return sorted(lst) == list(range(min(lst), max(lst)+1))\n",
        "\n",
        "def straight(hand):    \n",
        "    if consecutive([values.index(card[1]) for card in hand]):\n",
        "      return highest_card(hand)\n",
        "    else:\n",
        "      return None\n",
        "\n",
        "def straight_flush(hand):\n",
        "    if straight(hand) and flush(hand):\n",
        "      return highest_card(hand)\n",
        "    else:\n",
        "      return None"
      ],
      "execution_count": null,
      "outputs": []
    },
    {
      "cell_type": "code",
      "metadata": {
        "id": "tQm9ibU0SQ8h"
      },
      "source": [
        "test_flush = [('Clubs', 9),\n",
        "  ('Clubs', 10),\n",
        "  ('Clubs', 'Jack'),\n",
        "  ('Clubs', 'Jack'),\n",
        "  ('Clubs', 'Ace')]\n",
        "\n",
        "test_no_flush= [('Hearts', 9),\n",
        "  ('Clubs', 10),\n",
        "  ('Clubs', 'Jack'),\n",
        "  ('Clubs', 'Jack'),\n",
        "  ('Clubs', 'Ace')]\n",
        "\n",
        "test_straight = [('Clubs', 9),\n",
        "  ('Spades', 10),\n",
        "  ('Clubs', 'Jack'),\n",
        "  ('Clubs', 'Queen'),\n",
        "  ('Clubs', 'King')]\n",
        "\n",
        "test_no_straight = [('Hearts', 9),\n",
        "  ('Clubs', 10),\n",
        "  ('Spades', 'Jack'),\n",
        "  ('Clubs', 'Jack'),\n",
        "  ('Clubs', 'King')]\n",
        "\n",
        "test_straight_flush = [('Clubs', 9),\n",
        "  ('Clubs', 10),\n",
        "  ('Clubs', 'Jack'),\n",
        "  ('Clubs', 'Queen'),\n",
        "  ('Clubs', 'King')]"
      ],
      "execution_count": null,
      "outputs": []
    },
    {
      "cell_type": "code",
      "metadata": {
        "id": "UNqT_AyIGI2C",
        "outputId": "37a49b10-7f2a-49f8-bf69-e11a352395cb",
        "colab": {
          "base_uri": "https://localhost:8080/"
        }
      },
      "source": [
        "print(flush(test_flush))\n",
        "print(flush(test_no_flush))\n",
        "\n",
        "print(straight(test_straight))\n",
        "print(straight(test_no_straight))\n",
        "\n",
        "print(straight_flush(test_straight_flush))\n",
        "print(straight_flush(test_flush))"
      ],
      "execution_count": null,
      "outputs": [
        {
          "output_type": "stream",
          "text": [
            "12\n",
            "None\n",
            "11\n",
            "None\n",
            "11\n",
            "None\n"
          ],
          "name": "stdout"
        }
      ]
    },
    {
      "cell_type": "markdown",
      "metadata": {
        "id": "zV3kQBnsYcoV"
      },
      "source": [
        "4b. Add two additional functions `three_of_a_kind` and `pair` that work in an analogous manner."
      ]
    },
    {
      "cell_type": "code",
      "metadata": {
        "id": "Kj66yC3NYcoV"
      },
      "source": [
        "def of_a_kind(hand, n):\n",
        "  state = False\n",
        "  for a in hand:\n",
        "    kind = 0\n",
        "    for b in hand:\n",
        "      if a[1] == b[1]:\n",
        "        kind = kind+1\n",
        "    if kind == n:\n",
        "      state = True\n",
        "  return state\n",
        "\n",
        "def three_of_a_kind(hand):\n",
        "  if of_a_kind(hand, 3):\n",
        "    return highest_card(hand)\n",
        "  else:\n",
        "    return None\n",
        "\n",
        "def pair(hand):\n",
        "  if of_a_kind(hand, 2):\n",
        "    return highest_card(hand)\n",
        "  else:\n",
        "    return None"
      ],
      "execution_count": null,
      "outputs": []
    },
    {
      "cell_type": "code",
      "metadata": {
        "id": "I3tmzseVL8RJ",
        "outputId": "10831e25-b0b4-4e84-9306-4ecddff1b036",
        "colab": {
          "base_uri": "https://localhost:8080/"
        }
      },
      "source": [
        "p = [('Clubs', 9),\n",
        " ('Clubs', 7),\n",
        " ('Clubs', 9),\n",
        " ('Clubs', 'Jack'),\n",
        " ('Clubs', 'Jack')]\n",
        "\n",
        "t = [('Clubs', 9),\n",
        " ('Clubs', 9),\n",
        " ('Clubs', 9),\n",
        " ('Clubs', 'Jack'),\n",
        " ('Clubs', 'Jack')]\n",
        "\n",
        "print(pair(h))\n",
        "print(three_of_a_kind(h))\n",
        "\n",
        "\n",
        "print(pair(t))\n",
        "print(three_of_a_kind(t))"
      ],
      "execution_count": null,
      "outputs": [
        {
          "output_type": "stream",
          "text": [
            "9\n",
            "None\n",
            "9\n",
            "9\n"
          ],
          "name": "stdout"
        }
      ]
    }
  ]
}